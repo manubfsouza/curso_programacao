{
  "nbformat": 4,
  "nbformat_minor": 0,
  "metadata": {
    "kernelspec": {
      "display_name": "Python 3",
      "language": "python",
      "name": "python3"
    },
    "language_info": {
      "codemirror_mode": {
        "name": "ipython",
        "version": 3
      },
      "file_extension": ".py",
      "mimetype": "text/x-python",
      "name": "python",
      "nbconvert_exporter": "python",
      "pygments_lexer": "ipython3",
      "version": "3.8.3"
    },
    "colab": {
      "name": "11-exercicio3.ipynb",
      "provenance": []
    }
  },
  "cells": [
    {
      "cell_type": "code",
      "metadata": {
        "id": "Vb0FlLPyttI2"
      },
      "source": [
        "## Não se preocupem com essa célula. Ela é só pra essa aula funcionar no Google Colab\n",
        "## Se estiver rodando isso no Colab, Descomente e rode o código abaixo:\n",
        "\n",
        "#!git clone https://github.com/gavieira/curso_programacao\n",
        "\n",
        "#import os\n",
        "#os.chdir('/content/curso_programacao')\n",
        "#!git pull"
      ],
      "execution_count": null,
      "outputs": []
    },
    {
      "cell_type": "markdown",
      "metadata": {
        "id": "mDpVDjRlttI6"
      },
      "source": [
        "# Exercícios"
      ]
    },
    {
      "cell_type": "markdown",
      "metadata": {
        "id": "bbqMW4O0ttI6"
      },
      "source": [
        "## 1\n",
        "Escreva uma função que retorne o comprimento de uma string:"
      ]
    },
    {
      "cell_type": "code",
      "metadata": {
        "id": "-B10NGfSttI7",
        "outputId": "6d627e23-47ba-45ea-cb73-78f24061ac7e",
        "colab": {
          "base_uri": "https://localhost:8080/",
          "height": 34
        }
      },
      "source": [
        "def func1(frase):\n",
        "  return (len(frase))\n",
        "frase= \"Olá, bom dia\"\n",
        "func1(frase)"
      ],
      "execution_count": 2,
      "outputs": [
        {
          "output_type": "execute_result",
          "data": {
            "text/plain": [
              "12"
            ]
          },
          "metadata": {
            "tags": []
          },
          "execution_count": 2
        }
      ]
    },
    {
      "cell_type": "markdown",
      "metadata": {
        "id": "4HMF4iBlttI-"
      },
      "source": [
        "## 2\n",
        "Crie uma função que:\n",
        "- Receba uma string como argumento\n",
        "- Retorne uma string que consista na junção das 2 primeiras e 2 últimas letras\n",
        "- Retorne uma string vazia se o argumento tiver menos do que duas letras"
      ]
    },
    {
      "cell_type": "code",
      "metadata": {
        "id": "UyLyatvyttI-",
        "outputId": "eb424ea3-5d0c-44cb-afb3-e23b282ac30a",
        "colab": {
          "base_uri": "https://localhost:8080/",
          "height": 35
        }
      },
      "source": [
        "def func2(frase):\n",
        "  return (frase [:2 + 10:12])\n",
        "frase= \"Olá, bom dia\"\n",
        "func2(frase)\n"
      ],
      "execution_count": 21,
      "outputs": [
        {
          "output_type": "execute_result",
          "data": {
            "application/vnd.google.colaboratory.intrinsic+json": {
              "type": "string"
            },
            "text/plain": [
              "'O'"
            ]
          },
          "metadata": {
            "tags": []
          },
          "execution_count": 21
        }
      ]
    },
    {
      "cell_type": "code",
      "metadata": {
        "id": "86Ybx6A-ywaB",
        "outputId": "8663b426-904e-4f6c-825a-1c276a12799d",
        "colab": {
          "base_uri": "https://localhost:8080/",
          "height": 129
        }
      },
      "source": [
        "def func2(frase):\n",
        "  if (len(frase)) < 2\n",
        "  return (frase [])\n",
        "frase = \"o\"\n",
        "func2(frase)"
      ],
      "execution_count": 26,
      "outputs": [
        {
          "output_type": "error",
          "ename": "SyntaxError",
          "evalue": "ignored",
          "traceback": [
            "\u001b[0;36m  File \u001b[0;32m\"<ipython-input-26-45501b68a21e>\"\u001b[0;36m, line \u001b[0;32m2\u001b[0m\n\u001b[0;31m    if (len(frase))<2\u001b[0m\n\u001b[0m                     ^\u001b[0m\n\u001b[0;31mSyntaxError\u001b[0m\u001b[0;31m:\u001b[0m invalid syntax\n"
          ]
        }
      ]
    },
    {
      "cell_type": "markdown",
      "metadata": {
        "id": "Do3djOCAttJB"
      },
      "source": [
        "## 3\n",
        "Escreva uma função que:\n",
        "- Receba uma string como argumento\n",
        "- Substitua todas as ocorrências do primeiro caracter por '\\$', exceto pelo próprio primeiro caracter.\n",
        "- Retorne essa string com as substituições.\n",
        "\n",
        "```\n",
        "Ex. de entrada: 'rearranjo'\n",
        "Ex. de saída: 'rea$$anjo'\n",
        "```"
      ]
    },
    {
      "cell_type": "code",
      "metadata": {
        "id": "E13MwmzxttJC"
      },
      "source": [
        ""
      ],
      "execution_count": null,
      "outputs": []
    },
    {
      "cell_type": "markdown",
      "metadata": {
        "id": "B3XKYcRVttJE"
      },
      "source": [
        "## 4\n",
        "Escreva uma função que:\n",
        "- Retorne uma string que seja a fusão de duas outras strings, separadas pro espaço e com as primeiras letras trocadas entre si\n",
        "\n",
        "Exemplo:\n",
        "```\n",
        "Entrada: 'abc','xyz'\n",
        "Saída: 'xbc ayz'\n",
        "```"
      ]
    },
    {
      "cell_type": "code",
      "metadata": {
        "id": "gLBt_Y2wttJF"
      },
      "source": [
        ""
      ],
      "execution_count": null,
      "outputs": []
    },
    {
      "cell_type": "markdown",
      "metadata": {
        "id": "YQTh-5YrttJI"
      },
      "source": [
        "## 5\n",
        "Escreva uma função que:\n",
        "- Substitua a última letra de uma palavra por 'asso' \n",
        "- Se a palavra já terminar com 'asso', substituir 'asso' por 'issimo'\n",
        "- Se a palavra já terminar com 'íssimo', substituir 'íssimo' por 'érrimo'\n",
        "- Se a palavra tiver 3 caracteres ou mesmo, não alterar a palavra.\n",
        "- Por último, retorne a string gerada\n",
        "\n",
        "Exemplo:\n",
        "\n",
        "```\n",
        "Entrada 1: \"cansado\"\n",
        "Saída 1: \"cansadasso\"\n",
        "\n",
        "Entrada 1: \"cansadasso\"\n",
        "Saída 1: \"cansadíssimo\"\n",
        "\n",
        "Entrada 1: \"cansadíssimo\"\n",
        "Saída 1: \"cansadérrimo\"\n",
        "\n",
        "Entrada 1: \"olá\"\n",
        "Saída 1: \"olá\"\n"
      ]
    },
    {
      "cell_type": "code",
      "metadata": {
        "id": "tDFilfWrttJI"
      },
      "source": [
        ""
      ],
      "execution_count": null,
      "outputs": []
    },
    {
      "cell_type": "markdown",
      "metadata": {
        "id": "r704WbxuttJL"
      },
      "source": [
        "## 6\n",
        "Escreva uma função que receba uma string e retorne a mesma string com o primeiro e último caracteres trocados:"
      ]
    },
    {
      "cell_type": "code",
      "metadata": {
        "id": "XM0Tx34SttJL"
      },
      "source": [
        ""
      ],
      "execution_count": null,
      "outputs": []
    },
    {
      "cell_type": "markdown",
      "metadata": {
        "id": "3NFZ-x-tttJN"
      },
      "source": [
        "## 7\n",
        "Esreva uma função que remova os caracteres com índice ímpar de uma string:"
      ]
    },
    {
      "cell_type": "code",
      "metadata": {
        "id": "Kb0_TbRuttJO"
      },
      "source": [
        ""
      ],
      "execution_count": null,
      "outputs": []
    },
    {
      "cell_type": "markdown",
      "metadata": {
        "id": "yN5lDy0attJQ"
      },
      "source": [
        "## 8\n",
        "Escreva duas funções:\n",
        "- uma que retorne uma string totalmente convertida em maiúsculas\n",
        "- outra que retorne uma string totalmente convertida em minúsculas"
      ]
    },
    {
      "cell_type": "code",
      "metadata": {
        "id": "qoglSq5DttJQ"
      },
      "source": [
        ""
      ],
      "execution_count": null,
      "outputs": []
    },
    {
      "cell_type": "markdown",
      "metadata": {
        "id": "54cIVgguttJS"
      },
      "source": [
        "## 9\n",
        "Escreva uma função que remova os espaços de uma string:"
      ]
    },
    {
      "cell_type": "code",
      "metadata": {
        "id": "4eM3KBAGttJT"
      },
      "source": [
        ""
      ],
      "execution_count": null,
      "outputs": []
    },
    {
      "cell_type": "markdown",
      "metadata": {
        "id": "Yr-xqtmpttJV"
      },
      "source": [
        "**OBS**: Para os próximos exercícios, use os arquivos de texto presentes na pasta \"arquivos\". Pessoalmente, eu recomendo o uso do arquivo em 'arquivos/arquivo_texto.txt', a menos que a questão especifique um arquivo diferente."
      ]
    },
    {
      "cell_type": "markdown",
      "metadata": {
        "id": "i5gMuB7OttJW"
      },
      "source": [
        "## 10\n",
        "Escreva um script que receba uma string com o caminho para um arquivo de texto e retorne todo o seu conteúdo:"
      ]
    },
    {
      "cell_type": "code",
      "metadata": {
        "id": "N09J67gCttJW"
      },
      "source": [
        ""
      ],
      "execution_count": null,
      "outputs": []
    },
    {
      "cell_type": "markdown",
      "metadata": {
        "id": "7Ljy3JqQttJY"
      },
      "source": [
        "## 11\n",
        "Escreva um script que receba leia um arquivo de texto e criei outro arquivo (chamado 'linhas_numeradas.txt') com o número da linha antes do texto original, separados por tabulação:\n",
        "\n",
        "Exemplo de arquivo original:\n",
        "```\n",
        "Oi!\n",
        "Esse é um arquivo de texto.\n",
        "Está aqui só pra preencher espaço\n",
        "```\n",
        "\n",
        "Exemplo de novo arquivo:\n",
        "```\n",
        "1    Oi!\n",
        "2    Esse é um arquivo de texto.\n",
        "3    Está aqui só pra preencher espaço\n",
        "```"
      ]
    },
    {
      "cell_type": "code",
      "metadata": {
        "id": "rG8zVzH-ttJZ"
      },
      "source": [
        ""
      ],
      "execution_count": null,
      "outputs": []
    },
    {
      "cell_type": "markdown",
      "metadata": {
        "id": "LTA91853ttJb"
      },
      "source": [
        "## 12\n",
        "Escreva uma função que conte quantas sequências há em um arquivo multifasta (use o arquivo em 'arquivos/multifasta.fasta'):"
      ]
    },
    {
      "cell_type": "code",
      "metadata": {
        "id": "ENjVbTq5ttJc"
      },
      "source": [
        ""
      ],
      "execution_count": null,
      "outputs": []
    },
    {
      "cell_type": "markdown",
      "metadata": {
        "id": "f1wBBVptttJe"
      },
      "source": [
        "## 13\n",
        "Escreva uma função que conte quantos nucleotídeos há em um arquivo fasta com uma única sequência (use o arquivo em 'arquivos/seq1.fasta'):"
      ]
    },
    {
      "cell_type": "code",
      "metadata": {
        "id": "NtiWXI_KttJe"
      },
      "source": [
        ""
      ],
      "execution_count": null,
      "outputs": []
    }
  ]
}